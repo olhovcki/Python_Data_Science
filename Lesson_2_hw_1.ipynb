{
  "nbformat": 4,
  "nbformat_minor": 0,
  "metadata": {
    "colab": {
      "provenance": []
    },
    "kernelspec": {
      "name": "python3",
      "display_name": "Python 3"
    },
    "language_info": {
      "name": "python"
    }
  },
  "cells": [
    {
      "cell_type": "code",
      "execution_count": 8,
      "metadata": {
        "id": "yLpbHnSeVL7X"
      },
      "outputs": [],
      "source": [
        "import numpy as np"
      ]
    },
    {
      "cell_type": "markdown",
      "source": [
        "**“Вычисления с помощью Numpy.**”\n",
        "**Задание 1.**\n",
        "Импортируйте библиотеку Numpy и дайте ей псевдоним np.\n",
        "Создайте массив Numpy под названием a размером 5x2, то есть состоящий из 5 строк и 2 столбцов. Первый столбец должен содержать числа 1, 2, 3, 3, 1, а второй - числа 6, 8, 11, 10, 7. Будем считать, что каждый столбец - это признак, а строка - наблюдение. Затем найдите среднее значение по каждому признаку, используя метод mean массива Numpy. Результат запишите в массив mean_a, в нем должно быть 2 элемента.\n"
      ],
      "metadata": {
        "id": "eT8quTBKERZr"
      }
    },
    {
      "cell_type": "markdown",
      "source": [],
      "metadata": {
        "id": "h9hVPNx45sgU"
      }
    },
    {
      "cell_type": "code",
      "source": [
        "a = np.array([[1,2,3,3,1],\n",
        "             [6,8,11,10,7]])\n",
        "print(a)\n",
        "print(\"Размерность a: {}\".format(a.ndim))\n",
        "mean_a = a.mean(axis=1)\n",
        "print(\"Среднее значение строк, (наблюдение): {}\".format(mean_a))"
      ],
      "metadata": {
        "colab": {
          "base_uri": "https://localhost:8080/"
        },
        "id": "hAb40p32O3ge",
        "outputId": "e05020a1-498f-4bb0-935f-574256f8c4b7"
      },
      "execution_count": 9,
      "outputs": [
        {
          "output_type": "stream",
          "name": "stdout",
          "text": [
            "[[ 1  2  3  3  1]\n",
            " [ 6  8 11 10  7]]\n",
            "Размерность a: 2\n",
            "Среднее значение строк, (наблюдение): [2.  8.4]\n"
          ]
        }
      ]
    },
    {
      "cell_type": "markdown",
      "source": [
        "**Задание 2.**\n",
        "Вычислите массив a_centered, отняв от значений массива “а” средние значения соответствующих признаков, содержащиеся в массиве mean_a. Вычисление должно производиться в одно действие. Получившийся массив должен иметь размер 5x2.\n"
      ],
      "metadata": {
        "id": "QPt5F6wqFbIy"
      }
    },
    {
      "cell_type": "code",
      "source": [
        "a_centered = a.T - mean_a\n",
        "print(a_centered)"
      ],
      "metadata": {
        "colab": {
          "base_uri": "https://localhost:8080/"
        },
        "id": "H96KS70tQpKh",
        "outputId": "10f76598-96a3-42f0-a676-7aa077d1b6d9"
      },
      "execution_count": 10,
      "outputs": [
        {
          "output_type": "stream",
          "name": "stdout",
          "text": [
            "[[-1.  -2.4]\n",
            " [ 0.  -0.4]\n",
            " [ 1.   2.6]\n",
            " [ 1.   1.6]\n",
            " [-1.  -1.4]]\n"
          ]
        }
      ]
    },
    {
      "cell_type": "markdown",
      "source": [
        "**Задание 3.**\n",
        "Найдите скалярное произведение столбцов массива a_centered. В результате должна получиться величина a_centered_sp. Затем поделите a_centered_sp на N-1, где N - число наблюдений.\n"
      ],
      "metadata": {
        "id": "K1oJa3YAF7Ju"
      }
    },
    {
      "cell_type": "code",
      "source": [
        "a_centered_sp = a_centered[:,0] @ a_centered[:,1]\n",
        "print(a_centered_sp)\n",
        "\n",
        "a_centered_sp = a_centered_sp / (a.shape[0]-1)\n",
        "print(a_centered_sp)"
      ],
      "metadata": {
        "colab": {
          "base_uri": "https://localhost:8080/"
        },
        "id": "bg_s6t_eGBRo",
        "outputId": "62c5b934-938b-4dab-8800-a67bac44cb19"
      },
      "execution_count": 11,
      "outputs": [
        {
          "output_type": "stream",
          "name": "stdout",
          "text": [
            "8.0\n",
            "8.0\n"
          ]
        }
      ]
    },
    {
      "cell_type": "markdown",
      "source": [
        "**Задание 4.**\n",
        "Число, которое мы получили в конце задания 3 является ковариацией двух признаков, содержащихся в массиве “а”. В задании 4 мы делили сумму произведений центрированных признаков на N-1, а не на N, поэтому полученная нами величина является несмещенной оценкой ковариации.\n"
      ],
      "metadata": {
        "id": "zlY91T5o7rPB"
      }
    },
    {
      "cell_type": "code",
      "source": [
        "np.cov(a.T)[0,1]"
      ],
      "metadata": {
        "colab": {
          "base_uri": "https://localhost:8080/"
        },
        "id": "4OX-MJih75CB",
        "outputId": "105e4663-e71e-497a-b38b-123be01ba55f"
      },
      "execution_count": null,
      "outputs": [
        {
          "output_type": "execute_result",
          "data": {
            "text/plain": [
              "15.0"
            ]
          },
          "metadata": {},
          "execution_count": 5
        }
      ]
    }
  ]
}