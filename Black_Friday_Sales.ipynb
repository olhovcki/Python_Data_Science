{
  "nbformat": 4,
  "nbformat_minor": 0,
  "metadata": {
    "colab": {
      "provenance": []
    },
    "kernelspec": {
      "name": "python3",
      "display_name": "Python 3"
    },
    "language_info": {
      "name": "python"
    }
  },
  "cells": [
    {
      "cell_type": "markdown",
      "source": [
        "#Построение модели для прогнозирования суммы покупки клиента.\n",
        "\n",
        "### Постановки задачи\n",
        "\n",
        "Розничная компания хочет понять покупательское поведение клиентов (в частности, сумму покупки) в отношении различных продуктов разных категорий. Они поделились сводкой о покупках различных клиентов для выбранных крупносерийных продуктов за последний месяц. Набор данных также содержит демографические данные клиентов (возраст, пол, семейное положение, город проживания, как долго покупатель живет в этом городе), сведения о продукте (product_id и категория продукта) и общую сумму покупки за последний месяц.\n",
        "\n",
        "Теперь они хотят построить модель для прогнозирования суммы покупки клиента по различным продуктам, которая поможет им создать персонализированное предложение для клиентов по различным продуктам.\n",
        "\n",
        "**Определение переменной**"
      ],
      "metadata": {
        "id": "kfSyieBRs_Xj"
      }
    },
    {
      "cell_type": "markdown",
      "source": [
        "**Подключение библиотек и скриптов**"
      ],
      "metadata": {
        "id": "1xPUTWVJynT9"
      }
    },
    {
      "cell_type": "code",
      "source": [
        "import numpy as np\n",
        "import pandas as pd\n",
        "import random\n",
        "import pickle\n",
        "\n",
        "from sklearn.model_selection import train_test_split, cross_val_score\n",
        "from sklearn.preprocessing import StandardScaler, RobustScaler\n",
        "from sklearn.ensemble import RandomForestRegressor\n",
        "from sklearn.metrics import r2_score as r2\n",
        "from sklearn.model_selection import KFold, GridSearchCV\n",
        "\n",
        "from datetime import datetime\n",
        "\n",
        "import matplotlib\n",
        "import matplotlib.pyplot as plt\n",
        "import seaborn as sns\n",
        "%matplotlib inline"
      ],
      "metadata": {
        "id": "coiHmVJDyohH"
      },
      "execution_count": null,
      "outputs": []
    },
    {
      "cell_type": "code",
      "source": [
        "import warnings\n",
        "warnings.filterwarnings('ignore')"
      ],
      "metadata": {
        "id": "c-34-50xy1CE"
      },
      "execution_count": null,
      "outputs": []
    },
    {
      "cell_type": "code",
      "source": [
        "matplotlib.rcParams.update({'font.size': 14})"
      ],
      "metadata": {
        "id": "ZEYrwt2ny5Lm"
      },
      "execution_count": null,
      "outputs": []
    },
    {
      "cell_type": "code",
      "source": [
        "def evaluate_preds(train_true_values, train_pred_values, test_true_values, test_pred_values):\n",
        "    print(\"Train R2:\\t\" + str(round(r2(train_true_values, train_pred_values), 3)))\n",
        "    print(\"Test R2:\\t\" + str(round(r2(test_true_values, test_pred_values), 3)))\n",
        "    \n",
        "    plt.figure(figsize=(18,10))\n",
        "    \n",
        "    plt.subplot(121)\n",
        "    sns.scatterplot(x=train_pred_values, y=train_true_values)\n",
        "    plt.xlabel('Predicted values')\n",
        "    plt.ylabel('True values')\n",
        "    plt.title('Train sample prediction')\n",
        "    \n",
        "    plt.subplot(122)\n",
        "    sns.scatterplot(x=test_pred_values, y=test_true_values)\n",
        "    plt.xlabel('Predicted values')\n",
        "    plt.ylabel('True values')\n",
        "    plt.title('Test sample prediction')\n",
        "\n",
        "    plt.show()"
      ],
      "metadata": {
        "id": "sGepeETSy6xj"
      },
      "execution_count": null,
      "outputs": []
    },
    {
      "cell_type": "markdown",
      "source": [
        "**Пути к директориям и файлам**"
      ],
      "metadata": {
        "id": "DmZCqlTUzCBn"
      }
    },
    {
      "cell_type": "code",
      "source": [
        "TRAIN_DATASET_PATH = 'train.csv'\n",
        "TEST_DATASET_PATH = 'test.csv'"
      ],
      "metadata": {
        "id": "NKFqWpmnzLn8"
      },
      "execution_count": null,
      "outputs": []
    },
    {
      "cell_type": "markdown",
      "source": [
        "### Загрузка данных <a class='anchor' id='load'>"
      ],
      "metadata": {
        "id": "lvctdcfqzy2s"
      }
    },
    {
      "cell_type": "markdown",
      "source": [
        "**Описание датасета**\n",
        "\n",
        "* **User_ID** - идентификационный номер покупателя\n",
        "* **Product_ID** - идентификационный номер товара\n",
        "* **Gender** - пол покупателя\n",
        "* **Age** - возраст покупателя\n",
        "* **Occupation** - род деятельности покупателя\n",
        "* **City_Category** - город проживания\n",
        "* **Stay_In_Current_City_Years** - как долго покупатель живет в этом городе\n",
        "* **Marital_Status** - семейное положение покупателя\n",
        "* **Product_Category_1** - категория товара 1\n",
        "* **Product_Category_2** - категория товара 2\n",
        "* **Product_Category_3** - категория товара 3\n",
        "* **Purchase** - сумма покупок"
      ],
      "metadata": {
        "id": "1pvldoZVzz5E"
      }
    },
    {
      "cell_type": "code",
      "source": [
        "train_df = pd.read_csv(TRAIN_DATASET_PATH)\n",
        "train_df.tail()"
      ],
      "metadata": {
        "colab": {
          "base_uri": "https://localhost:8080/",
          "height": 328
        },
        "id": "Zb7ZMOofzpuZ",
        "outputId": "0bc696f9-f9f7-4e33-ce84-7efb1c641b4e"
      },
      "execution_count": null,
      "outputs": [
        {
          "output_type": "error",
          "ename": "FileNotFoundError",
          "evalue": "ignored",
          "traceback": [
            "\u001b[0;31m---------------------------------------------------------------------------\u001b[0m",
            "\u001b[0;31mFileNotFoundError\u001b[0m                         Traceback (most recent call last)",
            "\u001b[0;32m<ipython-input-8-d42c6700342d>\u001b[0m in \u001b[0;36m<module>\u001b[0;34m\u001b[0m\n\u001b[0;32m----> 1\u001b[0;31m \u001b[0mtrain_df\u001b[0m \u001b[0;34m=\u001b[0m \u001b[0mpd\u001b[0m\u001b[0;34m.\u001b[0m\u001b[0mread_csv\u001b[0m\u001b[0;34m(\u001b[0m\u001b[0mTRAIN_DATASET_PATH\u001b[0m\u001b[0;34m)\u001b[0m\u001b[0;34m\u001b[0m\u001b[0;34m\u001b[0m\u001b[0m\n\u001b[0m\u001b[1;32m      2\u001b[0m \u001b[0mtrain_df\u001b[0m\u001b[0;34m.\u001b[0m\u001b[0mtail\u001b[0m\u001b[0;34m(\u001b[0m\u001b[0;34m)\u001b[0m\u001b[0;34m\u001b[0m\u001b[0;34m\u001b[0m\u001b[0m\n",
            "\u001b[0;32m/usr/local/lib/python3.8/dist-packages/pandas/util/_decorators.py\u001b[0m in \u001b[0;36mwrapper\u001b[0;34m(*args, **kwargs)\u001b[0m\n\u001b[1;32m    309\u001b[0m                     \u001b[0mstacklevel\u001b[0m\u001b[0;34m=\u001b[0m\u001b[0mstacklevel\u001b[0m\u001b[0;34m,\u001b[0m\u001b[0;34m\u001b[0m\u001b[0;34m\u001b[0m\u001b[0m\n\u001b[1;32m    310\u001b[0m                 )\n\u001b[0;32m--> 311\u001b[0;31m             \u001b[0;32mreturn\u001b[0m \u001b[0mfunc\u001b[0m\u001b[0;34m(\u001b[0m\u001b[0;34m*\u001b[0m\u001b[0margs\u001b[0m\u001b[0;34m,\u001b[0m \u001b[0;34m**\u001b[0m\u001b[0mkwargs\u001b[0m\u001b[0;34m)\u001b[0m\u001b[0;34m\u001b[0m\u001b[0;34m\u001b[0m\u001b[0m\n\u001b[0m\u001b[1;32m    312\u001b[0m \u001b[0;34m\u001b[0m\u001b[0m\n\u001b[1;32m    313\u001b[0m         \u001b[0;32mreturn\u001b[0m \u001b[0mwrapper\u001b[0m\u001b[0;34m\u001b[0m\u001b[0;34m\u001b[0m\u001b[0m\n",
            "\u001b[0;32m/usr/local/lib/python3.8/dist-packages/pandas/io/parsers/readers.py\u001b[0m in \u001b[0;36mread_csv\u001b[0;34m(filepath_or_buffer, sep, delimiter, header, names, index_col, usecols, squeeze, prefix, mangle_dupe_cols, dtype, engine, converters, true_values, false_values, skipinitialspace, skiprows, skipfooter, nrows, na_values, keep_default_na, na_filter, verbose, skip_blank_lines, parse_dates, infer_datetime_format, keep_date_col, date_parser, dayfirst, cache_dates, iterator, chunksize, compression, thousands, decimal, lineterminator, quotechar, quoting, doublequote, escapechar, comment, encoding, encoding_errors, dialect, error_bad_lines, warn_bad_lines, on_bad_lines, delim_whitespace, low_memory, memory_map, float_precision, storage_options)\u001b[0m\n\u001b[1;32m    584\u001b[0m     \u001b[0mkwds\u001b[0m\u001b[0;34m.\u001b[0m\u001b[0mupdate\u001b[0m\u001b[0;34m(\u001b[0m\u001b[0mkwds_defaults\u001b[0m\u001b[0;34m)\u001b[0m\u001b[0;34m\u001b[0m\u001b[0;34m\u001b[0m\u001b[0m\n\u001b[1;32m    585\u001b[0m \u001b[0;34m\u001b[0m\u001b[0m\n\u001b[0;32m--> 586\u001b[0;31m     \u001b[0;32mreturn\u001b[0m \u001b[0m_read\u001b[0m\u001b[0;34m(\u001b[0m\u001b[0mfilepath_or_buffer\u001b[0m\u001b[0;34m,\u001b[0m \u001b[0mkwds\u001b[0m\u001b[0;34m)\u001b[0m\u001b[0;34m\u001b[0m\u001b[0;34m\u001b[0m\u001b[0m\n\u001b[0m\u001b[1;32m    587\u001b[0m \u001b[0;34m\u001b[0m\u001b[0m\n\u001b[1;32m    588\u001b[0m \u001b[0;34m\u001b[0m\u001b[0m\n",
            "\u001b[0;32m/usr/local/lib/python3.8/dist-packages/pandas/io/parsers/readers.py\u001b[0m in \u001b[0;36m_read\u001b[0;34m(filepath_or_buffer, kwds)\u001b[0m\n\u001b[1;32m    480\u001b[0m \u001b[0;34m\u001b[0m\u001b[0m\n\u001b[1;32m    481\u001b[0m     \u001b[0;31m# Create the parser.\u001b[0m\u001b[0;34m\u001b[0m\u001b[0;34m\u001b[0m\u001b[0;34m\u001b[0m\u001b[0m\n\u001b[0;32m--> 482\u001b[0;31m     \u001b[0mparser\u001b[0m \u001b[0;34m=\u001b[0m \u001b[0mTextFileReader\u001b[0m\u001b[0;34m(\u001b[0m\u001b[0mfilepath_or_buffer\u001b[0m\u001b[0;34m,\u001b[0m \u001b[0;34m**\u001b[0m\u001b[0mkwds\u001b[0m\u001b[0;34m)\u001b[0m\u001b[0;34m\u001b[0m\u001b[0;34m\u001b[0m\u001b[0m\n\u001b[0m\u001b[1;32m    483\u001b[0m \u001b[0;34m\u001b[0m\u001b[0m\n\u001b[1;32m    484\u001b[0m     \u001b[0;32mif\u001b[0m \u001b[0mchunksize\u001b[0m \u001b[0;32mor\u001b[0m \u001b[0miterator\u001b[0m\u001b[0;34m:\u001b[0m\u001b[0;34m\u001b[0m\u001b[0;34m\u001b[0m\u001b[0m\n",
            "\u001b[0;32m/usr/local/lib/python3.8/dist-packages/pandas/io/parsers/readers.py\u001b[0m in \u001b[0;36m__init__\u001b[0;34m(self, f, engine, **kwds)\u001b[0m\n\u001b[1;32m    809\u001b[0m             \u001b[0mself\u001b[0m\u001b[0;34m.\u001b[0m\u001b[0moptions\u001b[0m\u001b[0;34m[\u001b[0m\u001b[0;34m\"has_index_names\"\u001b[0m\u001b[0;34m]\u001b[0m \u001b[0;34m=\u001b[0m \u001b[0mkwds\u001b[0m\u001b[0;34m[\u001b[0m\u001b[0;34m\"has_index_names\"\u001b[0m\u001b[0;34m]\u001b[0m\u001b[0;34m\u001b[0m\u001b[0;34m\u001b[0m\u001b[0m\n\u001b[1;32m    810\u001b[0m \u001b[0;34m\u001b[0m\u001b[0m\n\u001b[0;32m--> 811\u001b[0;31m         \u001b[0mself\u001b[0m\u001b[0;34m.\u001b[0m\u001b[0m_engine\u001b[0m \u001b[0;34m=\u001b[0m \u001b[0mself\u001b[0m\u001b[0;34m.\u001b[0m\u001b[0m_make_engine\u001b[0m\u001b[0;34m(\u001b[0m\u001b[0mself\u001b[0m\u001b[0;34m.\u001b[0m\u001b[0mengine\u001b[0m\u001b[0;34m)\u001b[0m\u001b[0;34m\u001b[0m\u001b[0;34m\u001b[0m\u001b[0m\n\u001b[0m\u001b[1;32m    812\u001b[0m \u001b[0;34m\u001b[0m\u001b[0m\n\u001b[1;32m    813\u001b[0m     \u001b[0;32mdef\u001b[0m \u001b[0mclose\u001b[0m\u001b[0;34m(\u001b[0m\u001b[0mself\u001b[0m\u001b[0;34m)\u001b[0m\u001b[0;34m:\u001b[0m\u001b[0;34m\u001b[0m\u001b[0;34m\u001b[0m\u001b[0m\n",
            "\u001b[0;32m/usr/local/lib/python3.8/dist-packages/pandas/io/parsers/readers.py\u001b[0m in \u001b[0;36m_make_engine\u001b[0;34m(self, engine)\u001b[0m\n\u001b[1;32m   1038\u001b[0m             )\n\u001b[1;32m   1039\u001b[0m         \u001b[0;31m# error: Too many arguments for \"ParserBase\"\u001b[0m\u001b[0;34m\u001b[0m\u001b[0;34m\u001b[0m\u001b[0;34m\u001b[0m\u001b[0m\n\u001b[0;32m-> 1040\u001b[0;31m         \u001b[0;32mreturn\u001b[0m \u001b[0mmapping\u001b[0m\u001b[0;34m[\u001b[0m\u001b[0mengine\u001b[0m\u001b[0;34m]\u001b[0m\u001b[0;34m(\u001b[0m\u001b[0mself\u001b[0m\u001b[0;34m.\u001b[0m\u001b[0mf\u001b[0m\u001b[0;34m,\u001b[0m \u001b[0;34m**\u001b[0m\u001b[0mself\u001b[0m\u001b[0;34m.\u001b[0m\u001b[0moptions\u001b[0m\u001b[0;34m)\u001b[0m  \u001b[0;31m# type: ignore[call-arg]\u001b[0m\u001b[0;34m\u001b[0m\u001b[0;34m\u001b[0m\u001b[0m\n\u001b[0m\u001b[1;32m   1041\u001b[0m \u001b[0;34m\u001b[0m\u001b[0m\n\u001b[1;32m   1042\u001b[0m     \u001b[0;32mdef\u001b[0m \u001b[0m_failover_to_python\u001b[0m\u001b[0;34m(\u001b[0m\u001b[0mself\u001b[0m\u001b[0;34m)\u001b[0m\u001b[0;34m:\u001b[0m\u001b[0;34m\u001b[0m\u001b[0;34m\u001b[0m\u001b[0m\n",
            "\u001b[0;32m/usr/local/lib/python3.8/dist-packages/pandas/io/parsers/c_parser_wrapper.py\u001b[0m in \u001b[0;36m__init__\u001b[0;34m(self, src, **kwds)\u001b[0m\n\u001b[1;32m     49\u001b[0m \u001b[0;34m\u001b[0m\u001b[0m\n\u001b[1;32m     50\u001b[0m         \u001b[0;31m# open handles\u001b[0m\u001b[0;34m\u001b[0m\u001b[0;34m\u001b[0m\u001b[0;34m\u001b[0m\u001b[0m\n\u001b[0;32m---> 51\u001b[0;31m         \u001b[0mself\u001b[0m\u001b[0;34m.\u001b[0m\u001b[0m_open_handles\u001b[0m\u001b[0;34m(\u001b[0m\u001b[0msrc\u001b[0m\u001b[0;34m,\u001b[0m \u001b[0mkwds\u001b[0m\u001b[0;34m)\u001b[0m\u001b[0;34m\u001b[0m\u001b[0;34m\u001b[0m\u001b[0m\n\u001b[0m\u001b[1;32m     52\u001b[0m         \u001b[0;32massert\u001b[0m \u001b[0mself\u001b[0m\u001b[0;34m.\u001b[0m\u001b[0mhandles\u001b[0m \u001b[0;32mis\u001b[0m \u001b[0;32mnot\u001b[0m \u001b[0;32mNone\u001b[0m\u001b[0;34m\u001b[0m\u001b[0;34m\u001b[0m\u001b[0m\n\u001b[1;32m     53\u001b[0m \u001b[0;34m\u001b[0m\u001b[0m\n",
            "\u001b[0;32m/usr/local/lib/python3.8/dist-packages/pandas/io/parsers/base_parser.py\u001b[0m in \u001b[0;36m_open_handles\u001b[0;34m(self, src, kwds)\u001b[0m\n\u001b[1;32m    220\u001b[0m         \u001b[0mLet\u001b[0m \u001b[0mthe\u001b[0m \u001b[0mreaders\u001b[0m \u001b[0mopen\u001b[0m \u001b[0mIOHandles\u001b[0m \u001b[0mafter\u001b[0m \u001b[0mthey\u001b[0m \u001b[0mare\u001b[0m \u001b[0mdone\u001b[0m \u001b[0;32mwith\u001b[0m \u001b[0mtheir\u001b[0m \u001b[0mpotential\u001b[0m \u001b[0mraises\u001b[0m\u001b[0;34m.\u001b[0m\u001b[0;34m\u001b[0m\u001b[0;34m\u001b[0m\u001b[0m\n\u001b[1;32m    221\u001b[0m         \"\"\"\n\u001b[0;32m--> 222\u001b[0;31m         self.handles = get_handle(\n\u001b[0m\u001b[1;32m    223\u001b[0m             \u001b[0msrc\u001b[0m\u001b[0;34m,\u001b[0m\u001b[0;34m\u001b[0m\u001b[0;34m\u001b[0m\u001b[0m\n\u001b[1;32m    224\u001b[0m             \u001b[0;34m\"r\"\u001b[0m\u001b[0;34m,\u001b[0m\u001b[0;34m\u001b[0m\u001b[0;34m\u001b[0m\u001b[0m\n",
            "\u001b[0;32m/usr/local/lib/python3.8/dist-packages/pandas/io/common.py\u001b[0m in \u001b[0;36mget_handle\u001b[0;34m(path_or_buf, mode, encoding, compression, memory_map, is_text, errors, storage_options)\u001b[0m\n\u001b[1;32m    700\u001b[0m         \u001b[0;32mif\u001b[0m \u001b[0mioargs\u001b[0m\u001b[0;34m.\u001b[0m\u001b[0mencoding\u001b[0m \u001b[0;32mand\u001b[0m \u001b[0;34m\"b\"\u001b[0m \u001b[0;32mnot\u001b[0m \u001b[0;32min\u001b[0m \u001b[0mioargs\u001b[0m\u001b[0;34m.\u001b[0m\u001b[0mmode\u001b[0m\u001b[0;34m:\u001b[0m\u001b[0;34m\u001b[0m\u001b[0;34m\u001b[0m\u001b[0m\n\u001b[1;32m    701\u001b[0m             \u001b[0;31m# Encoding\u001b[0m\u001b[0;34m\u001b[0m\u001b[0;34m\u001b[0m\u001b[0;34m\u001b[0m\u001b[0m\n\u001b[0;32m--> 702\u001b[0;31m             handle = open(\n\u001b[0m\u001b[1;32m    703\u001b[0m                 \u001b[0mhandle\u001b[0m\u001b[0;34m,\u001b[0m\u001b[0;34m\u001b[0m\u001b[0;34m\u001b[0m\u001b[0m\n\u001b[1;32m    704\u001b[0m                 \u001b[0mioargs\u001b[0m\u001b[0;34m.\u001b[0m\u001b[0mmode\u001b[0m\u001b[0;34m,\u001b[0m\u001b[0;34m\u001b[0m\u001b[0;34m\u001b[0m\u001b[0m\n",
            "\u001b[0;31mFileNotFoundError\u001b[0m: [Errno 2] No such file or directory: 'train.csv'"
          ]
        }
      ]
    },
    {
      "cell_type": "code",
      "source": [
        "train_df.info()"
      ],
      "metadata": {
        "id": "X7vXmi_TYZf8"
      },
      "execution_count": null,
      "outputs": []
    },
    {
      "cell_type": "code",
      "source": [
        "test_df = pd.read_csv(TEST_DATASET_PATH)\n",
        "test_df.tail()"
      ],
      "metadata": {
        "id": "MBklJqtAYkJQ"
      },
      "execution_count": null,
      "outputs": []
    },
    {
      "cell_type": "code",
      "source": [
        "test_df.info()"
      ],
      "metadata": {
        "id": "QMXHLP-dDmLa"
      },
      "execution_count": null,
      "outputs": []
    },
    {
      "cell_type": "code",
      "source": [
        "print('Строк в трейне:', train_df.shape[0])\n",
        "print('Строк в тесте', test_df.shape[0])"
      ],
      "metadata": {
        "id": "C323IDeRYua9"
      },
      "execution_count": null,
      "outputs": []
    },
    {
      "cell_type": "code",
      "source": [
        "train_df.shape[1] - 1 == test_df.shape[1]"
      ],
      "metadata": {
        "id": "-f4m8iNFY0Wv"
      },
      "execution_count": null,
      "outputs": []
    },
    {
      "cell_type": "markdown",
      "source": [
        "### Приведение типов"
      ],
      "metadata": {
        "id": "MhI-SbRLY5hM"
      }
    },
    {
      "cell_type": "code",
      "source": [
        "train_df.dtypes"
      ],
      "metadata": {
        "id": "SqAUPOJxZCIE"
      },
      "execution_count": null,
      "outputs": []
    },
    {
      "cell_type": "markdown",
      "source": [
        "## 1. EDA  <a class='anchor' id='eda'>\n",
        "Делаем EDA для:\n",
        "- Исправления выбросов\n",
        "- Заполнения NaN\n",
        "- Идей для генерации новых фич"
      ],
      "metadata": {
        "id": "wMZ-FKq1Zodq"
      }
    },
    {
      "cell_type": "markdown",
      "source": [
        "**Целевая переменная**"
      ],
      "metadata": {
        "id": "XTjTnvY4Zv1L"
      }
    },
    {
      "cell_type": "code",
      "source": [
        "plt.figure(figsize = (16, 8))\n",
        "\n",
        "train_df['Purchase'].hist(bins=30)\n",
        "plt.ylabel('Count')\n",
        "plt.xlabel('Purchase')\n",
        "\n",
        "plt.title('Target distribution')\n",
        "plt.show()"
      ],
      "metadata": {
        "id": "KDlo7eaYZw2z"
      },
      "execution_count": null,
      "outputs": []
    },
    {
      "cell_type": "code",
      "source": [
        "sns.boxplot(train_df[\"Purchase\"])\n",
        "plt.title(\"Boxplot of Purchase\")\n",
        "plt.show()"
      ],
      "metadata": {
        "id": "6LsmgKi_lkaF"
      },
      "execution_count": null,
      "outputs": []
    },
    {
      "cell_type": "code",
      "source": [
        "train_df[\"Purchase\"].skew()"
      ],
      "metadata": {
        "id": "DCSlcFILm1PE"
      },
      "execution_count": null,
      "outputs": []
    },
    {
      "cell_type": "code",
      "source": [
        "train_df[\"Purchase\"].kurtosis()"
      ],
      "metadata": {
        "id": "EZhluuzJm9YS"
      },
      "execution_count": null,
      "outputs": []
    },
    {
      "cell_type": "markdown",
      "source": [
        "**Качественные переменные**"
      ],
      "metadata": {
        "id": "e2CIp_57a9U8"
      }
    },
    {
      "cell_type": "code",
      "source": [
        "train_df.describe()"
      ],
      "metadata": {
        "id": "U1WlSetdbCaQ"
      },
      "execution_count": null,
      "outputs": []
    },
    {
      "cell_type": "code",
      "source": [
        "train_df.hist(figsize=(16,16), bins=20, grid=False)"
      ],
      "metadata": {
        "id": "Zeq2QFwMb8X1"
      },
      "execution_count": null,
      "outputs": []
    },
    {
      "cell_type": "markdown",
      "source": [
        "**Номинативные переменные**"
      ],
      "metadata": {
        "id": "pdJ37e55cfbI"
      }
    },
    {
      "cell_type": "code",
      "source": [
        "train_df.select_dtypes(include='object').columns.tolist()"
      ],
      "metadata": {
        "id": "C8QJn0VhceT5"
      },
      "execution_count": null,
      "outputs": []
    },
    {
      "cell_type": "code",
      "source": [
        "train_df['Gender'].value_counts()"
      ],
      "metadata": {
        "id": "7qqp7XHycyE7"
      },
      "execution_count": null,
      "outputs": []
    },
    {
      "cell_type": "code",
      "source": [
        "train_df['Age'].value_counts()"
      ],
      "metadata": {
        "id": "u3eVwux3dIUF"
      },
      "execution_count": null,
      "outputs": []
    },
    {
      "cell_type": "code",
      "source": [
        "train_df['City_Category'].value_counts()"
      ],
      "metadata": {
        "id": "7BcFDyondJcL"
      },
      "execution_count": null,
      "outputs": []
    },
    {
      "cell_type": "code",
      "source": [
        "train_df['Stay_In_Current_City_Years'].value_counts()"
      ],
      "metadata": {
        "id": "iUZtU1aMdKX9"
      },
      "execution_count": null,
      "outputs": []
    },
    {
      "cell_type": "markdown",
      "source": [
        "### 2. Обработка выбросов  <a class='anchor' id='outlier'>\n",
        "Что можно делать с ними?\n",
        "1. Выкинуть эти данные (только на трейне, на тесте ничего не выкидываем)\n",
        "2. Заменять выбросы разными методами (медианы, средние значения, np.clip и т.д.)\n",
        "3. Делать/не делать дополнительную фичу\n",
        "4. Ничего не делать"
      ],
      "metadata": {
        "id": "dqAbPzxPdq0E"
      }
    },
    {
      "cell_type": "markdown",
      "source": [
        "Удаляем User_ID и Product_ID"
      ],
      "metadata": {
        "id": "65Y5IAeV4_97"
      }
    },
    {
      "cell_type": "code",
      "source": [
        "train_df.drop('User_ID', axis=1, inplace=True)\n",
        "train_df.drop('Product_ID', axis=1, inplace=True)"
      ],
      "metadata": {
        "id": "JLhA5lQS5WhQ"
      },
      "execution_count": null,
      "outputs": []
    },
    {
      "cell_type": "markdown",
      "source": [
        "**Gender**"
      ],
      "metadata": {
        "id": "Hsf69bzgEe4i"
      }
    },
    {
      "cell_type": "code",
      "source": [
        "train_df['Gender'].value_counts()"
      ],
      "metadata": {
        "id": "_mzrZd6lfeGQ"
      },
      "execution_count": null,
      "outputs": []
    },
    {
      "cell_type": "code",
      "source": [
        "sns.countplot(train_df['Gender'])\n",
        "plt.show()"
      ],
      "metadata": {
        "id": "gu-tJgwdfkkd"
      },
      "execution_count": null,
      "outputs": []
    },
    {
      "cell_type": "code",
      "source": [
        "train_df.loc[(train_df['Gender'] == 'M'), 'Gender'] = 1\n",
        "train_df.loc[(train_df['Gender'] == 'F'), 'Gender'] = 2\n",
        "train_df.head()"
      ],
      "metadata": {
        "id": "Aa1NT-ASoDUP"
      },
      "execution_count": null,
      "outputs": []
    },
    {
      "cell_type": "code",
      "source": [
        "train_df['Gender'].value_counts()"
      ],
      "metadata": {
        "id": "iBVrvnVdDG18"
      },
      "execution_count": null,
      "outputs": []
    },
    {
      "cell_type": "markdown",
      "source": [
        "**Age**"
      ],
      "metadata": {
        "id": "hr-lUQ3KEo0u"
      }
    },
    {
      "cell_type": "code",
      "source": [
        "train_df['Age'].value_counts()"
      ],
      "metadata": {
        "id": "TTrBzgIcEA6l"
      },
      "execution_count": null,
      "outputs": []
    },
    {
      "cell_type": "code",
      "source": [
        "sns.countplot(train_df['Age'])\n",
        "plt.title('Распределение по возрасту')\n",
        "plt.xlabel('Age')\n",
        "plt.show()"
      ],
      "metadata": {
        "id": "RhzX87ngE1fb"
      },
      "execution_count": null,
      "outputs": []
    },
    {
      "cell_type": "markdown",
      "source": [
        "Как видно из графика, выделяется семь возрастных категорий."
      ],
      "metadata": {
        "id": "zR2yRJaTGCSU"
      }
    },
    {
      "cell_type": "code",
      "source": [
        "train_df.loc[train_df['Age'] == '0-17', 'Age'] = 1\n",
        "train_df.loc[train_df['Age'] == '18-25', 'Age'] = 2\n",
        "train_df.loc[train_df['Age'] == '26-35', 'Age'] = 3\n",
        "train_df.loc[train_df['Age'] == '36-45', 'Age'] = 4\n",
        "train_df.loc[train_df['Age'] == '46-50', 'Age'] = 5\n",
        "train_df.loc[train_df['Age'] == '51-55', 'Age'] = 6\n",
        "train_df.loc[train_df['Age'] == '55+', 'Age'] = 7"
      ],
      "metadata": {
        "id": "2zaWjJxUGNXE"
      },
      "execution_count": null,
      "outputs": []
    },
    {
      "cell_type": "code",
      "source": [
        "train_df['Age'].value_counts()"
      ],
      "metadata": {
        "id": "T5Qqvy4VNHou"
      },
      "execution_count": null,
      "outputs": []
    },
    {
      "cell_type": "markdown",
      "source": [
        "**Occupation**"
      ],
      "metadata": {
        "id": "GDphuXJCKLqJ"
      }
    },
    {
      "cell_type": "code",
      "source": [
        "train_df['Occupation'].value_counts()"
      ],
      "metadata": {
        "id": "AniEmrhPKR5V"
      },
      "execution_count": null,
      "outputs": []
    },
    {
      "cell_type": "code",
      "source": [
        "sns.countplot(train_df['Occupation'])\n",
        "plt.title('Распределение по профессии')\n",
        "plt.xlabel('Occupation')\n",
        "plt.show()"
      ],
      "metadata": {
        "id": "ARAiCwTGK2GZ"
      },
      "execution_count": null,
      "outputs": []
    },
    {
      "cell_type": "markdown",
      "source": [
        "**City_Category**"
      ],
      "metadata": {
        "id": "jO0yX-vcLi4l"
      }
    },
    {
      "cell_type": "code",
      "source": [
        "train_df['City_Category'].value_counts()"
      ],
      "metadata": {
        "id": "ufNuSAMELoDN"
      },
      "execution_count": null,
      "outputs": []
    },
    {
      "cell_type": "code",
      "source": [
        "sns.countplot(train_df['City_Category'])\n",
        "plt.title('Распределение по городам')\n",
        "plt.xlabel('City_Category')\n",
        "plt.show()"
      ],
      "metadata": {
        "id": "P4sFT8AbL0Lv"
      },
      "execution_count": null,
      "outputs": []
    },
    {
      "cell_type": "code",
      "source": [
        "train_df.loc[(train_df['City_Category'] == 'A'), 'City_Category'] = 1\n",
        "train_df.loc[(train_df['City_Category'] == 'B'), 'City_Category'] = 2\n",
        "train_df.loc[(train_df['City_Category'] == 'C'), 'City_Category'] = 3\n",
        "train_df.head()"
      ],
      "metadata": {
        "id": "dEL105OvMNGQ"
      },
      "execution_count": null,
      "outputs": []
    },
    {
      "cell_type": "code",
      "source": [
        "train_df['City_Category'].value_counts()"
      ],
      "metadata": {
        "id": "KYem3ZosNn7O"
      },
      "execution_count": null,
      "outputs": []
    },
    {
      "cell_type": "markdown",
      "source": [
        "**Stay_In_Current_City_Years**"
      ],
      "metadata": {
        "id": "orGWgAtgNtgb"
      }
    },
    {
      "cell_type": "code",
      "source": [
        "train_df['Stay_In_Current_City_Years'].value_counts()"
      ],
      "metadata": {
        "id": "8F3hbarCN2sf"
      },
      "execution_count": null,
      "outputs": []
    },
    {
      "cell_type": "code",
      "source": [
        "sns.countplot(train_df['Stay_In_Current_City_Years'])\n",
        "plt.title('Распределение по времени проживания в городе')\n",
        "plt.xlabel('Stay_In_Current_City_Years')\n",
        "plt.show()"
      ],
      "metadata": {
        "id": "Q_8PO6cdOsWB"
      },
      "execution_count": null,
      "outputs": []
    },
    {
      "cell_type": "code",
      "source": [
        "train_df.loc[(train_df['Stay_In_Current_City_Years'] == '4+'), 'Stay_In_Current_City_Years'] = 4"
      ],
      "metadata": {
        "id": "VQMfEbQROYHy"
      },
      "execution_count": null,
      "outputs": []
    },
    {
      "cell_type": "code",
      "source": [
        "train_df.head()"
      ],
      "metadata": {
        "id": "RPgHt3gVO6mk"
      },
      "execution_count": null,
      "outputs": []
    },
    {
      "cell_type": "code",
      "source": [
        "sns.countplot(train_df['Stay_In_Current_City_Years'])\n",
        "plt.title('Распределение по времени проживания в городе')\n",
        "plt.xlabel('Stay_In_Current_City_Years')\n",
        "plt.show()"
      ],
      "metadata": {
        "id": "kBiuMs6SUE2W"
      },
      "execution_count": null,
      "outputs": []
    },
    {
      "cell_type": "markdown",
      "source": [
        "**Marital_Status**"
      ],
      "metadata": {
        "id": "QTzt5UtBO_Vf"
      }
    },
    {
      "cell_type": "code",
      "source": [
        "train_df['Marital_Status'].value_counts()"
      ],
      "metadata": {
        "id": "Goo6hPPSPJWv"
      },
      "execution_count": null,
      "outputs": []
    },
    {
      "cell_type": "code",
      "source": [
        "sns.countplot(train_df['Marital_Status'])\n",
        "plt.title('Распределение по семейному\\n положению покупателя')\n",
        "plt.xlabel('Marital_Status')\n",
        "plt.show()"
      ],
      "metadata": {
        "id": "MPLQ9q-CPkRn"
      },
      "execution_count": null,
      "outputs": []
    },
    {
      "cell_type": "markdown",
      "source": [
        "**Product_Category_1**"
      ],
      "metadata": {
        "id": "s9nkePYlQVAQ"
      }
    },
    {
      "cell_type": "code",
      "source": [
        "train_df['Product_Category_1'].value_counts()"
      ],
      "metadata": {
        "id": "orB_YFrwQYYy"
      },
      "execution_count": null,
      "outputs": []
    },
    {
      "cell_type": "code",
      "source": [
        "plt.figure(figsize = (16, 5))\n",
        "sns.countplot(train_df['Product_Category_1'])\n",
        "plt.title('Распределение по продукту 1-й категории')\n",
        "plt.xlabel('Product_Category_1')\n",
        "plt.show()"
      ],
      "metadata": {
        "id": "NhJZIIwoQqwo"
      },
      "execution_count": null,
      "outputs": []
    },
    {
      "cell_type": "markdown",
      "source": [
        "**Product_Category_2**"
      ],
      "metadata": {
        "id": "LCP0sPQ5QoVK"
      }
    },
    {
      "cell_type": "code",
      "source": [
        "train_df['Product_Category_2'].value_counts()"
      ],
      "metadata": {
        "id": "c5FrrkHNQ_ng"
      },
      "execution_count": null,
      "outputs": []
    },
    {
      "cell_type": "code",
      "source": [
        "plt.figure(figsize = (16, 5))\n",
        "sns.countplot(train_df['Product_Category_2'])\n",
        "plt.title('Распределение по продукту 2-й категории')\n",
        "plt.xlabel('Product_Category_2')\n",
        "plt.show()"
      ],
      "metadata": {
        "id": "oqimnnsxcwiT"
      },
      "execution_count": null,
      "outputs": []
    },
    {
      "cell_type": "code",
      "source": [
        "train_df['Product_Category_2'].isnull().sum()"
      ],
      "metadata": {
        "id": "JlbUW2GbR0Ve"
      },
      "execution_count": null,
      "outputs": []
    },
    {
      "cell_type": "code",
      "source": [
        "train_df['Product_Category_2'] = train_df['Product_Category_2'].fillna(0)"
      ],
      "metadata": {
        "id": "GpD-vetWj74-"
      },
      "execution_count": null,
      "outputs": []
    },
    {
      "cell_type": "code",
      "source": [
        "train_df['Product_Category_2'] = train_df['Product_Category_2'].astype(int)"
      ],
      "metadata": {
        "id": "jVAuTbGFlmi4"
      },
      "execution_count": null,
      "outputs": []
    },
    {
      "cell_type": "code",
      "source": [
        "train_df['Product_Category_2'].value_counts()"
      ],
      "metadata": {
        "id": "tbs3hjigjVau"
      },
      "execution_count": null,
      "outputs": []
    },
    {
      "cell_type": "code",
      "source": [
        "plt.figure(figsize = (16, 8))\n",
        "sns.countplot(train_df['Product_Category_2'])\n",
        "plt.title('Распределение по продукту 2-й категории')\n",
        "plt.xlabel('Product_Category_2')\n",
        "plt.show()"
      ],
      "metadata": {
        "id": "YvpRaflVacxN"
      },
      "execution_count": null,
      "outputs": []
    },
    {
      "cell_type": "code",
      "source": [
        "train_df.head()"
      ],
      "metadata": {
        "id": "2q4fAc7ZbMIv"
      },
      "execution_count": null,
      "outputs": []
    },
    {
      "cell_type": "markdown",
      "source": [
        "**Product_Category_3**"
      ],
      "metadata": {
        "id": "pXlfA7uYxMa8"
      }
    },
    {
      "cell_type": "code",
      "source": [
        "train_df['Product_Category_3'].value_counts()"
      ],
      "metadata": {
        "id": "f8yVbS-dxN6m"
      },
      "execution_count": null,
      "outputs": []
    },
    {
      "cell_type": "code",
      "source": [
        "plt.figure(figsize = (16, 5))\n",
        "sns.countplot(train_df['Product_Category_3'])\n",
        "plt.title('Распределение по продукту 3-й категории')\n",
        "plt.xlabel('Product_Category_3')\n",
        "plt.show()"
      ],
      "metadata": {
        "id": "XDak0UAmxRUe"
      },
      "execution_count": null,
      "outputs": []
    },
    {
      "cell_type": "code",
      "source": [
        "train_df['Product_Category_3'].isnull().sum()"
      ],
      "metadata": {
        "id": "ydTtznrzxopb"
      },
      "execution_count": null,
      "outputs": []
    },
    {
      "cell_type": "code",
      "source": [
        "train_df['Product_Category_3'] = train_df['Product_Category_3'].fillna(0)"
      ],
      "metadata": {
        "id": "vLMR8tqpxr1d"
      },
      "execution_count": null,
      "outputs": []
    },
    {
      "cell_type": "code",
      "source": [
        "train_df['Product_Category_3'] = train_df['Product_Category_3'].astype(int)"
      ],
      "metadata": {
        "id": "Z9u8Ln7nx3Da"
      },
      "execution_count": null,
      "outputs": []
    },
    {
      "cell_type": "code",
      "source": [
        "train_df['Product_Category_3'].value_counts()"
      ],
      "metadata": {
        "id": "csHRwTaqx8F9"
      },
      "execution_count": null,
      "outputs": []
    },
    {
      "cell_type": "code",
      "source": [
        "plt.figure(figsize = (16, 5))\n",
        "sns.countplot(train_df['Product_Category_3'])\n",
        "plt.title('Распределение по продукту 3-й категории')\n",
        "plt.xlabel('Product_Category_3')\n",
        "plt.show()"
      ],
      "metadata": {
        "id": "Y5yNAj0iyGrJ"
      },
      "execution_count": null,
      "outputs": []
    },
    {
      "cell_type": "code",
      "source": [
        "plt.figure(figsize = (20,8))\n",
        "sns.heatmap(train_df.corr(),annot=True)\n",
        "plt.show()"
      ],
      "metadata": {
        "id": "69ogGmpnEg_I"
      },
      "execution_count": null,
      "outputs": []
    },
    {
      "cell_type": "markdown",
      "source": [
        "**Создаем функцию для обработки тестовых данных и приводим к виду тренеровочных данных**"
      ],
      "metadata": {
        "id": "2fCqMHRz2Os6"
      }
    },
    {
      "cell_type": "code",
      "source": [
        "def preprocess_data(df):\n",
        "    df.loc[(df['Gender'] == 'M'), 'Gender'] = 1\n",
        "    df.loc[(df['Gender'] == 'F'), 'Gender'] = 2\n",
        "    df.loc[df['Age'] == '0-17', 'Age'] = 1\n",
        "    df.loc[df['Age'] == '18-25', 'Age'] = 2\n",
        "    df.loc[df['Age'] == '26-35', 'Age'] = 3\n",
        "    df.loc[df['Age'] == '36-45', 'Age'] = 4\n",
        "    df.loc[df['Age'] == '46-50', 'Age'] = 5\n",
        "    df.loc[df['Age'] == '51-55', 'Age'] = 6\n",
        "    df.loc[df['Age'] == '55+', 'Age'] = 7\n",
        "    df.loc[(df['City_Category'] == 'A'), 'City_Category'] = 1\n",
        "    df.loc[(df['City_Category'] == 'B'), 'City_Category'] = 2\n",
        "    df.loc[(df['City_Category'] == 'C'), 'City_Category'] = 3\n",
        "    df.loc[(df['Stay_In_Current_City_Years'] == '4+'), 'Stay_In_Current_City_Years'] = 4\n",
        "    df['Product_Category_2'] = df['Product_Category_2'].fillna(0)\n",
        "    df['Product_Category_2'] = df['Product_Category_2'].astype(int)\n",
        "    df['Product_Category_3'] = df['Product_Category_3'].fillna(0)\n",
        "    df['Product_Category_3'] = df['Product_Category_3'].astype(int)\n",
        "    df.drop('User_ID', axis=1, inplace=True)\n",
        "    df.drop('Product_ID', axis=1, inplace=True)\n",
        "    return df\n"
      ],
      "metadata": {
        "id": "mymOnF6U2N97"
      },
      "execution_count": null,
      "outputs": []
    },
    {
      "cell_type": "code",
      "source": [
        "df = test_df"
      ],
      "metadata": {
        "id": "ObuvrmzH7Z28"
      },
      "execution_count": null,
      "outputs": []
    },
    {
      "cell_type": "code",
      "source": [
        "preprocess_data(df)"
      ],
      "metadata": {
        "id": "VouhDD2E7bT_"
      },
      "execution_count": null,
      "outputs": []
    },
    {
      "cell_type": "code",
      "source": [
        "test_df = df"
      ],
      "metadata": {
        "id": "WGbDszG-7jI6"
      },
      "execution_count": null,
      "outputs": []
    },
    {
      "cell_type": "markdown",
      "source": [
        "### **Отбор признаков**"
      ],
      "metadata": {
        "id": "IlWw9PuV0AFD"
      }
    },
    {
      "cell_type": "code",
      "source": [
        "train_df.columns.tolist()"
      ],
      "metadata": {
        "id": "F74a4PVqz_At"
      },
      "execution_count": null,
      "outputs": []
    },
    {
      "cell_type": "code",
      "source": [
        "target_name = 'Purchase'"
      ],
      "metadata": {
        "id": "aG3uwjq-0u5n"
      },
      "execution_count": null,
      "outputs": []
    },
    {
      "cell_type": "markdown",
      "source": [
        "### Разбиение на train и test  <a class='anchor' id='split'>"
      ],
      "metadata": {
        "id": "LhbbYaK2zbWZ"
      }
    },
    {
      "cell_type": "code",
      "source": [
        "X = train_df.drop(columns=target_name)\n",
        "y = train_df[target_name]"
      ],
      "metadata": {
        "id": "nVel9DFGy85B"
      },
      "execution_count": null,
      "outputs": []
    },
    {
      "cell_type": "code",
      "source": [
        "X_train, X_valid, y_train, y_valid = train_test_split(X, y, test_size=0.33, shuffle=True, random_state=21)"
      ],
      "metadata": {
        "id": "PHCNUJoi07RU"
      },
      "execution_count": null,
      "outputs": []
    },
    {
      "cell_type": "code",
      "source": [
        "X_train.shape, X_valid.shape, test_df.shape"
      ],
      "metadata": {
        "id": "tHM-c7MDk4it"
      },
      "execution_count": null,
      "outputs": []
    },
    {
      "cell_type": "code",
      "source": [
        "X_train.isna().sum().sum(), X_valid.isna().sum().sum(), test_df.isna().sum().sum()"
      ],
      "metadata": {
        "id": "0uSvZQ412lai"
      },
      "execution_count": null,
      "outputs": []
    },
    {
      "cell_type": "markdown",
      "source": [
        "**Обучение модели**"
      ],
      "metadata": {
        "id": "0MYmNlfbnyPh"
      }
    },
    {
      "cell_type": "code",
      "source": [
        "rf_model = RandomForestRegressor(random_state=21, criterion='mse')\n",
        "rf_model.fit(X_train, y_train)"
      ],
      "metadata": {
        "id": "UPtdU4hEnwc8"
      },
      "execution_count": null,
      "outputs": []
    },
    {
      "cell_type": "markdown",
      "source": [
        "**Оценка модели**"
      ],
      "metadata": {
        "id": "hqEc2nPxoBkI"
      }
    },
    {
      "cell_type": "code",
      "source": [
        "y_train_preds = rf_model.predict(X_train)\n",
        "y_test_preds = rf_model.predict(X_valid)\n",
        "\n",
        "evaluate_preds(y_train, y_train_preds, y_valid, y_test_preds)"
      ],
      "metadata": {
        "id": "hCtjKhYioAPd"
      },
      "execution_count": null,
      "outputs": []
    },
    {
      "cell_type": "markdown",
      "metadata": {
        "papermill": {
          "duration": 0.096493,
          "end_time": "2020-12-23T14:56:02.752492",
          "exception": false,
          "start_time": "2020-12-23T14:56:02.655999",
          "status": "completed"
        },
        "pycharm": {
          "name": "#%% md\n"
        },
        "tags": [],
        "id": "1FidGCXtoipN"
      },
      "source": [
        "**Кросс-валидация**"
      ]
    },
    {
      "cell_type": "code",
      "source": [
        "cv_score = cross_val_score(rf_model, X_train, y_train, scoring='r2', cv=KFold(n_splits=3, shuffle=True, random_state=21))\n",
        "cv_score"
      ],
      "metadata": {
        "id": "TmWcUXCj6nN1"
      },
      "execution_count": null,
      "outputs": []
    },
    {
      "cell_type": "code",
      "source": [
        "cv_score.mean()"
      ],
      "metadata": {
        "id": "cT-bSZNL7C1w"
      },
      "execution_count": null,
      "outputs": []
    },
    {
      "cell_type": "markdown",
      "metadata": {
        "papermill": {
          "duration": 0.09272,
          "end_time": "2020-12-23T14:56:14.982636",
          "exception": false,
          "start_time": "2020-12-23T14:56:14.889916",
          "status": "completed"
        },
        "pycharm": {
          "name": "#%% md\n"
        },
        "tags": [],
        "id": "1fGMShojoipO"
      },
      "source": [
        "**Важность признаков**"
      ]
    },
    {
      "cell_type": "code",
      "source": [
        "feature_importances = pd.DataFrame(zip(X_train.columns, rf_model.feature_importances_), \n",
        "                                   columns=['feature_name', 'importance'])\n",
        "\n",
        "feature_importances.sort_values(by='importance', ascending=False)"
      ],
      "metadata": {
        "id": "WgCqDdvd7HhZ"
      },
      "execution_count": null,
      "outputs": []
    },
    {
      "cell_type": "markdown",
      "source": [
        "###Прогнозирование на тестовом датасете  <a class='anchor' id='prediction'>"
      ],
      "metadata": {
        "id": "NYJxic0d9Fho"
      }
    },
    {
      "cell_type": "code",
      "source": [
        "test_df.shape"
      ],
      "metadata": {
        "id": "_VnYJHzc9VTI"
      },
      "execution_count": null,
      "outputs": []
    },
    {
      "cell_type": "code",
      "source": [
        "predictions = rf_model.predict(test_df)\n",
        "predictions"
      ],
      "metadata": {
        "id": "8fpFp3xu-wNY"
      },
      "execution_count": null,
      "outputs": []
    },
    {
      "cell_type": "code",
      "source": [
        "test_df['predictions'] = predictions"
      ],
      "metadata": {
        "id": "F6xE9tKJFtj7"
      },
      "execution_count": null,
      "outputs": []
    },
    {
      "cell_type": "code",
      "source": [
        "test_df.head()"
      ],
      "metadata": {
        "id": "Sdz_O17qGYqy"
      },
      "execution_count": null,
      "outputs": []
    },
    {
      "cell_type": "code",
      "source": [
        "test_df = pd.read_csv(TEST_DATASET_PATH)"
      ],
      "metadata": {
        "id": "Itr_T07f5Ze6"
      },
      "execution_count": null,
      "outputs": []
    },
    {
      "cell_type": "code",
      "source": [
        "test_df['predictions'] = predictions"
      ],
      "metadata": {
        "id": "v-1HDsti6ChZ"
      },
      "execution_count": null,
      "outputs": []
    },
    {
      "cell_type": "code",
      "source": [
        "test_df.head()"
      ],
      "metadata": {
        "id": "K1iNyuQm6D7V"
      },
      "execution_count": null,
      "outputs": []
    },
    {
      "cell_type": "markdown",
      "source": [
        "**Сохранение модели**\n",
        "\n"
      ],
      "metadata": {
        "id": "vYDNMR6okRhq"
      }
    },
    {
      "cell_type": "code",
      "source": [
        "with open('rf_final_model', 'wb') as file:\n",
        "    pickle.dump(rf_model, file)"
      ],
      "metadata": {
        "id": "O2DbH50Wjhoc"
      },
      "execution_count": null,
      "outputs": []
    }
  ]
}